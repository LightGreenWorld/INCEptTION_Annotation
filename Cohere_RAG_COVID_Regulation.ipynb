{
  "nbformat": 4,
  "nbformat_minor": 0,
  "metadata": {
    "colab": {
      "provenance": [],
      "authorship_tag": "ABX9TyNG4wxSDJfHLASIxCKiqK8N",
      "include_colab_link": true
    },
    "kernelspec": {
      "name": "python3",
      "display_name": "Python 3"
    },
    "language_info": {
      "name": "python"
    }
  },
  "cells": [
    {
      "cell_type": "markdown",
      "metadata": {
        "id": "view-in-github",
        "colab_type": "text"
      },
      "source": [
        "<a href=\"https://colab.research.google.com/github/LightGreenWorld/INCEptTION_Annotation/blob/main/Cohere_RAG_COVID_Regulation.ipynb\" target=\"_parent\"><img src=\"https://colab.research.google.com/assets/colab-badge.svg\" alt=\"Open In Colab\"/></a>"
      ]
    },
    {
      "cell_type": "code",
      "source": [
        "from google.colab import drive\n",
        "drive.mount('/content/drive')"
      ],
      "metadata": {
        "colab": {
          "base_uri": "https://localhost:8080/"
        },
        "id": "zV7UwJglDMF6",
        "outputId": "e2d3d1cf-3c7e-444f-a9fe-a19a03d7accf"
      },
      "execution_count": 2,
      "outputs": [
        {
          "output_type": "stream",
          "name": "stdout",
          "text": [
            "Mounted at /content/drive\n"
          ]
        }
      ]
    },
    {
      "cell_type": "code",
      "source": [
        "!pip install -qU cohere langchain langchain-cohere langchain_community faiss-cpu"
      ],
      "metadata": {
        "colab": {
          "base_uri": "https://localhost:8080/"
        },
        "id": "Xc8uAcBuHjwo",
        "outputId": "223ea47e-15d9-4869-87f7-440d75718cca"
      },
      "execution_count": 4,
      "outputs": [
        {
          "output_type": "stream",
          "name": "stdout",
          "text": [
            "\u001b[?25l   \u001b[90m━━━━━━━━━━━━━━━━━━━━━━━━━━━━━━━━━━━━━━━━\u001b[0m \u001b[32m0.0/295.4 kB\u001b[0m \u001b[31m?\u001b[0m eta \u001b[36m-:--:--\u001b[0m\r\u001b[2K   \u001b[90m━━━━━━━━━━━━━━━━━━━━━━━━━━━━━━━━━━━━━━━━\u001b[0m \u001b[32m295.4/295.4 kB\u001b[0m \u001b[31m8.6 MB/s\u001b[0m eta \u001b[36m0:00:00\u001b[0m\n",
            "\u001b[?25h\u001b[?25l   \u001b[90m━━━━━━━━━━━━━━━━━━━━━━━━━━━━━━━━━━━━━━━━\u001b[0m \u001b[32m0.0/42.3 kB\u001b[0m \u001b[31m?\u001b[0m eta \u001b[36m-:--:--\u001b[0m\r\u001b[2K   \u001b[90m━━━━━━━━━━━━━━━━━━━━━━━━━━━━━━━━━━━━━━━━\u001b[0m \u001b[32m42.3/42.3 kB\u001b[0m \u001b[31m3.3 MB/s\u001b[0m eta \u001b[36m0:00:00\u001b[0m\n",
            "\u001b[2K   \u001b[90m━━━━━━━━━━━━━━━━━━━━━━━━━━━━━━━━━━━━━━━━\u001b[0m \u001b[32m2.5/2.5 MB\u001b[0m \u001b[31m51.5 MB/s\u001b[0m eta \u001b[36m0:00:00\u001b[0m\n",
            "\u001b[2K   \u001b[90m━━━━━━━━━━━━━━━━━━━━━━━━━━━━━━━━━━━━━━━━\u001b[0m \u001b[32m31.4/31.4 MB\u001b[0m \u001b[31m81.1 MB/s\u001b[0m eta \u001b[36m0:00:00\u001b[0m\n",
            "\u001b[2K   \u001b[90m━━━━━━━━━━━━━━━━━━━━━━━━━━━━━━━━━━━━━━━━\u001b[0m \u001b[32m3.5/3.5 MB\u001b[0m \u001b[31m116.9 MB/s\u001b[0m eta \u001b[36m0:00:00\u001b[0m\n",
            "\u001b[2K   \u001b[90m━━━━━━━━━━━━━━━━━━━━━━━━━━━━━━━━━━━━━━━━\u001b[0m \u001b[32m64.7/64.7 kB\u001b[0m \u001b[31m5.2 MB/s\u001b[0m eta \u001b[36m0:00:00\u001b[0m\n",
            "\u001b[2K   \u001b[90m━━━━━━━━━━━━━━━━━━━━━━━━━━━━━━━━━━━━━━━━\u001b[0m \u001b[32m50.9/50.9 kB\u001b[0m \u001b[31m4.3 MB/s\u001b[0m eta \u001b[36m0:00:00\u001b[0m\n",
            "\u001b[?25h\u001b[31mERROR: pip's dependency resolver does not currently take into account all the packages that are installed. This behaviour is the source of the following dependency conflicts.\n",
            "google-colab 1.0.0 requires requests==2.32.4, but you have requests 2.32.5 which is incompatible.\u001b[0m\u001b[31m\n",
            "\u001b[0m"
          ]
        }
      ]
    },
    {
      "cell_type": "markdown",
      "source": [
        "### Cohere Embedding model - Retriever\n",
        "\n",
        "#### Retriever에 사용할 임베딩 모델\n",
        " Cohere Embed Models: https://docs.cohere.com/cohere-embed"
      ],
      "metadata": {
        "id": "JE_8Ix4yG2nl"
      }
    },
    {
      "cell_type": "code",
      "source": [
        "!pip install python-dotenv"
      ],
      "metadata": {
        "colab": {
          "base_uri": "https://localhost:8080/"
        },
        "id": "_-EE-d9vITJ4",
        "outputId": "95a5ebe2-ce47-4f87-eaee-7a7a02f06ac4"
      },
      "execution_count": 25,
      "outputs": [
        {
          "output_type": "stream",
          "name": "stdout",
          "text": [
            "Requirement already satisfied: python-dotenv in /usr/local/lib/python3.12/dist-packages (1.1.1)\n"
          ]
        }
      ]
    },
    {
      "cell_type": "code",
      "source": [
        "from os import path\n",
        "import os\n",
        "\n",
        "if os.path.exists(\"Env/.env.txt\"):\n",
        "  try:\n",
        "      print(\"파일이 성공적으로 변경됐습니다.\")\n",
        "      os.rename(\"Env/.env.txt\", \"Env/.env\")\n",
        "  except FileNotFoundError:\n",
        "      print(\"파일이 존재하지 않습니다.\")\n",
        "      exit(1)\n",
        "  except OSError as e:\n",
        "      print(f\"파일 이름 변경 중 오류 발생: {e}\")\n",
        "      exit(1)"
      ],
      "metadata": {
        "id": "PJ5jMJuaKr94"
      },
      "execution_count": 35,
      "outputs": []
    },
    {
      "cell_type": "code",
      "source": [
        "from dotenv import load_dotenv\n",
        "import os\n",
        "\n",
        "load_dotenv(\"Env/.env\")\n",
        "\n",
        "cohere_api_key = os.getenv(\"Cohere_API_KEY\")\n",
        "print(cohere_api_key)"
      ],
      "metadata": {
        "id": "wh56nt1GIW7f"
      },
      "execution_count": null,
      "outputs": []
    },
    {
      "cell_type": "markdown",
      "source": [
        "### 0. TEST with English Sample"
      ],
      "metadata": {
        "id": "CHeBXVKCcj4p"
      }
    },
    {
      "cell_type": "code",
      "source": [
        "from langchain_cohere import CohereEmbeddings\n",
        "\n",
        "cohere_embeddings = CohereEmbeddings(model=\"embed-english-light-v3.0\")\n",
        "text = \"This is a test document.\"\n",
        "\n",
        "embedding_result = cohere_embeddings.embed_query(text)\n",
        "print(embedding_result)"
      ],
      "metadata": {
        "colab": {
          "base_uri": "https://localhost:8080/"
        },
        "id": "t6BTthiDDMm8",
        "outputId": "6870cf44-9153-4ffd-daa5-20306974ce16"
      },
      "execution_count": 37,
      "outputs": [
        {
          "output_type": "stream",
          "name": "stdout",
          "text": [
            "[-0.09338379, 0.0871582, -0.03326416, 0.01953125, 0.07702637, 0.034729004, -0.058380127, -0.031021118, -0.030517578, -0.055999756, 0.050842285, -0.006752014, 0.038391113, -0.0014362335, -0.041137695, -0.008880615, 0.026000977, -0.023010254, 0.05456543, -0.03366089, 0.055633545, 0.028579712, -0.068603516, 0.03970337, -0.06677246, 0.06732178, -0.013053894, -0.0060920715, 0.038116455, 0.057800293, 0.048736572, 0.026855469, 0.009849548, 0.08312988, 0.073791504, 0.01663208, -0.0871582, 0.01802063, -0.0020828247, -0.0031356812, 0.039978027, -0.03164673, 0.009796143, 0.011375427, 0.0068855286, 0.092285156, 0.05218506, -0.060943604, 0.038269043, -0.018218994, -0.04510498, -0.0847168, 0.008300781, -0.060058594, 0.0012111664, 0.05102539, 0.05218506, -0.047210693, -0.051239014, -0.044158936, -0.058166504, 0.07849121, -0.019165039, 0.06451416, 0.024887085, 0.011405945, -0.03768921, -0.018814087, -0.06829834, -0.052825928, -0.019104004, -0.021194458, 0.043518066, 0.07525635, 0.082336426, 0.0037651062, -0.0060310364, -0.03265381, 0.011375427, -0.013847351, -0.07232666, 0.02986145, 0.03866577, -0.029083252, 0.008666992, 0.03845215, 0.045196533, 0.012756348, -0.018051147, 0.032440186, -0.030715942, -0.045440674, -0.11187744, 0.032073975, 0.021972656, -0.044921875, -0.030410767, -0.03668213, 0.12420654, 0.05029297, -0.032989502, -0.049438477, 0.001704216, -0.08074951, 0.00046396255, -0.04107666, 0.020599365, -0.089416504, 0.020477295, -0.038726807, -0.04437256, -0.019256592, 0.048583984, 0.046020508, 0.03741455, -0.037475586, -0.050720215, 0.052856445, -0.10229492, -0.00010281801, 0.058776855, 0.021453857, -0.031051636, 0.01676941, 0.024047852, -0.026306152, 0.15258789, -0.09979248, 0.04888916, 0.045166016, 0.008865356, -0.043914795, -0.032928467, 0.0052757263, 0.06072998, 0.036956787, -0.058013916, 0.053466797, -0.03225708, 0.018371582, -0.0042533875, 0.047943115, 0.06530762, 0.039855957, -0.025360107, 0.047332764, -0.15124512, 0.08325195, 0.016174316, -0.029724121, 0.111816406, -0.05230713, -0.06964111, 0.03060913, -0.04257202, -0.0284729, 0.007843018, -0.03866577, 0.07867432, -0.04446411, 0.028869629, -0.015823364, 0.02659607, 0.085754395, 0.03878784, -0.04232788, 0.017074585, 0.026779175, -0.04284668, -0.017105103, 0.10058594, 0.022323608, -0.007007599, -0.09661865, -0.01322937, -0.004627228, 0.057800293, 0.057159424, -0.033294678, -0.066101074, 0.010910034, 0.033569336, -0.062042236, -0.0072021484, -0.070373535, 0.034729004, -0.07434082, -0.06604004, 0.061401367, 0.09576416, -0.070739746, 0.066833496, -0.019042969, -0.0051994324, -0.07696533, -0.03564453, 0.048614502, -0.048919678, 0.036224365, -0.06652832, 0.03338623, 0.05847168, 0.009414673, -0.035095215, 0.011787415, -0.007675171, -0.057006836, -0.045074463, -0.027999878, -0.049102783, -0.025787354, -0.010101318, -0.000813961, -0.009963989, -0.013343811, 0.04046631, 0.02758789, -0.07086182, 0.09442139, -0.012275696, -0.018936157, -0.011940002, 0.10638428, -0.10913086, 0.05606079, 0.008895874, 0.017089844, 0.019958496, 0.03173828, -0.037322998, 0.019699097, 0.046722412, -0.08959961, 0.059448242, 0.018875122, -0.057495117, -0.039276123, 0.009063721, -0.0178833, 0.032073975, -0.08178711, -0.061431885, 0.05731201, 0.012886047, -0.025360107, 0.04498291, 0.027923584, 0.125, 0.013374329, -0.013069153, -0.031677246, -0.109558105, 0.05731201, -0.03765869, 0.04650879, -0.005706787, 0.021697998, -0.0008239746, 0.030090332, -0.048736572, 0.07940674, -0.017120361, 0.018737793, 0.12011719, -0.03564453, 0.07519531, -0.039611816, -0.014968872, -0.045288086, 0.07702637, 0.010681152, -0.04736328, 0.07623291, 0.008071899, 0.080078125, -0.060516357, 0.043426514, -0.026489258, -0.018188477, 0.049560547, -0.068847656, -0.03387451, -0.09661865, -0.03768921, 0.028549194, 0.036621094, 0.05307007, -0.053894043, 0.0019035339, -0.07788086, -0.010597229, -0.027420044, 0.10900879, 0.019302368, -0.06726074, 0.04937744, 0.05154419, -0.050598145, 0.07562256, -0.05569458, 0.073913574, -0.052337646, -0.0149383545, -0.00037050247, 0.037322998, 0.018478394, -0.03201294, -0.04788208, 0.03062439, -0.055786133, 0.0018081665, 0.029510498, -0.10864258, -0.027374268, 0.040405273, 0.01474762, -0.010726929, -0.086242676, -0.02658081, -0.057159424, -0.0095825195, -0.11804199, -0.014289856, -0.006881714, -0.028533936, 0.005382538, -0.053771973, -0.015853882, 0.0034332275, -0.08441162, -0.028182983, -0.00856781, -0.060394287, -0.036590576, 0.03062439, 0.112854004, -0.008041382, -0.03353882, 0.0181427, -0.03466797, 0.026565552, -0.033813477, 0.0074310303, -0.02017212, -0.047729492, 0.00010108948, -0.032073975, 0.08630371, 0.08557129, -0.0115737915, 0.044067383, 0.062042236, 0.00819397, -0.016082764, 0.01574707, 0.0154418945, 0.06726074, 0.056884766, 0.01210022, 0.048095703, -0.0017309189, 0.018295288, -0.00592041, 0.062286377, 0.040649414, -0.032928467, -0.05392456, -0.13891602, -0.033050537, 0.047973633, -0.07824707, 0.024627686, -0.02923584, 0.09118652, 0.0690918, 0.045837402, -0.06402588, -0.028747559, -0.06542969, -0.08496094, 0.06762695, 0.04220581, 0.059539795, 0.0023174286]\n"
          ]
        }
      ]
    },
    {
      "cell_type": "code",
      "source": [
        "print(\"Embedding Dim :\", len(embedding_result))"
      ],
      "metadata": {
        "colab": {
          "base_uri": "https://localhost:8080/"
        },
        "id": "2NVpS2wdHYYl",
        "outputId": "5ce91c39-6680-452a-b366-2cc190dcd38e"
      },
      "execution_count": 7,
      "outputs": [
        {
          "output_type": "stream",
          "name": "stdout",
          "text": [
            "Embedding Dim : 384\n"
          ]
        }
      ]
    },
    {
      "cell_type": "markdown",
      "source": [
        "### 1. pdf 텍스트 Load\n",
        "\n",
        "> Sample pdf(Kor): https://www.work24.go.kr/cm/main.do?bbs_seq=20210601899\n"
      ],
      "metadata": {
        "id": "rf2gq-v3J7lb"
      }
    },
    {
      "cell_type": "code",
      "source": [
        "!pip install -U pypdf"
      ],
      "metadata": {
        "colab": {
          "base_uri": "https://localhost:8080/"
        },
        "id": "3XFJV4dgfZ9z",
        "outputId": "022880c4-8c83-4a34-f683-78d832edade9"
      },
      "execution_count": 8,
      "outputs": [
        {
          "output_type": "stream",
          "name": "stdout",
          "text": [
            "Collecting pypdf\n",
            "  Downloading pypdf-6.1.1-py3-none-any.whl.metadata (7.1 kB)\n",
            "Downloading pypdf-6.1.1-py3-none-any.whl (323 kB)\n",
            "\u001b[?25l   \u001b[90m━━━━━━━━━━━━━━━━━━━━━━━━━━━━━━━━━━━━━━━━\u001b[0m \u001b[32m0.0/323.5 kB\u001b[0m \u001b[31m?\u001b[0m eta \u001b[36m-:--:--\u001b[0m\r\u001b[2K   \u001b[91m━━━━━━━━━━━━━━━━━━━━━━━━━━━━━━━━━━━━━\u001b[0m\u001b[91m╸\u001b[0m\u001b[90m━━\u001b[0m \u001b[32m307.2/323.5 kB\u001b[0m \u001b[31m10.4 MB/s\u001b[0m eta \u001b[36m0:00:01\u001b[0m\r\u001b[2K   \u001b[90m━━━━━━━━━━━━━━━━━━━━━━━━━━━━━━━━━━━━━━━━\u001b[0m \u001b[32m323.5/323.5 kB\u001b[0m \u001b[31m6.7 MB/s\u001b[0m eta \u001b[36m0:00:00\u001b[0m\n",
            "\u001b[?25hInstalling collected packages: pypdf\n",
            "Successfully installed pypdf-6.1.1\n"
          ]
        }
      ]
    },
    {
      "cell_type": "code",
      "source": [
        "# Trial 1 to load PDF\n",
        "from langchain_core.documents.base import Blob\n",
        "blob = Blob.from_path(\"/content/drive/MyDrive/Colab Notebooks/RAG_Langchain/Docs/COVID19_Regulation_KO.pdf\")\n",
        "print(blob)"
      ],
      "metadata": {
        "colab": {
          "base_uri": "https://localhost:8080/"
        },
        "id": "aFAmaqRfflb5",
        "outputId": "5486238e-ed33-410f-ba31-5f940370ff91"
      },
      "execution_count": 9,
      "outputs": [
        {
          "output_type": "stream",
          "name": "stdout",
          "text": [
            "metadata={} mimetype='application/pdf' path='/content/drive/MyDrive/Colab Notebooks/RAG_Langchain/COVID19_Regulation_KO.pdf'\n"
          ]
        }
      ]
    },
    {
      "cell_type": "code",
      "source": [
        "# Trial 2 to load PDF\n",
        "from langchain_community.document_loaders import PyPDFLoader\n",
        "\n",
        "loader = PyPDFLoader(\"/content/drive/MyDrive/Colab Notebooks/Docs/RAG_Langchain/COVID19_Regulation_KO.pdf\")\n",
        "documents = loader.load()\n",
        "\n",
        "documents\n",
        "\n",
        "# for doc in documents:\n",
        "#   print(doc.page_content)"
      ],
      "metadata": {
        "colab": {
          "base_uri": "https://localhost:8080/"
        },
        "id": "MkG7_tfIhYCj",
        "outputId": "c97115c4-d719-40f7-f3ab-318f10f04fa5"
      },
      "execution_count": 10,
      "outputs": [
        {
          "output_type": "execute_result",
          "data": {
            "text/plain": [
              "[Document(metadata={'producer': 'Hancom PDF 1.3.0.538', 'creator': 'Hwp 2018 10.0.0.10141', 'creationdate': '2021-06-21T09:41:20+09:00', 'author': 'Moel', 'moddate': '2021-06-21T09:41:20+09:00', 'pdfversion': '1.4', 'source': '/content/drive/MyDrive/Colab Notebooks/RAG_Langchain/COVID19_Regulation_KO.pdf', 'total_pages': 1, 'page': 0, 'page_label': '1'}, page_content='□코로나19관련 안전보건교육 지침 개정 안내(교육지침 4판)-안전·보건사고 발생위험 상승 우려로 인해 기존 유예되었던 교육을 인력기준 및 방역수칙 준수하여 정상 실시구분현 행(3판) 개 정(4판) 비고(사유 등)직무교육【이수기간 유예】ㅇ직무교육 대상자가 교육\\xa0 수강을 원치 않을 경우-「감염병 재난」 상황\\xa0 \\xa0         해제날부터 6개월 이내에\\xa0 직무교육을 이수 \\n【이수기간 유예 종료】◦ 직무교육 이수기간 유예종료 - 방역지침을 준수하여 교육 실시* 2단계까지 100미만, 2.5단계 이상 50인 미만\\n 안전보건사고 발생 위험상승 우려 근로자정기교육\\n【소규모 교육】◦ 정기교육 시 전직원 집체\\xa0 교육 보다는- 가급적 ‘소규모 단위’\\xa0 교육을 권장◦ 매일 또는 격일 단위로\\xa0 분할 실시하되, - 가급적 1회 30분을 넘지\\xa0 않도록 할 것\\n【교육 실시】◦ 방역지침을 준수하여 교육 실시* 2단계까지 100미만, 2.5단계 이상 50인 미만◦ 안전보건교육으로 볼 수\\xa0 없는 직무교육이 혼재되는\\xa0 부분은\\xa0- 명확히 구분하여 실시 관리감독자교육【집체·현장 유예】◦ 관리감독자 정기교육(인터넷\\xa0 원격교육) 시- 관리감독자 집체 또는\\xa0 현장교육 유예【교육실시】◦ 방역지침을 준수하여 교육 실시* 2단계까지 100미만, 2.5단계 이상 50인 미만\\n적정여부및 위반행위 판단 ◦ 교육실시 결과 확인 방법은  ① 교육시간 및 내용, ② 근로자 참석 및 교육강사 기준,\\xa0\\xa0③ 허위·거짓으로 작성, ④ 작업 근로자에 대한 인터뷰를\\xa0 진행한 후 종합적으로 법 위반 여부 판단◦ 교육은 ‘법률상의 의무’가 교육종류 및 주기 등에 따라 달라지므로 이를 별개의 위반행위로 구분하여 과태료 산정감염병재난과 무관하게 지속적용')]"
            ]
          },
          "metadata": {},
          "execution_count": 10
        }
      ]
    },
    {
      "cell_type": "code",
      "source": [
        "documents_wo_stop = documents[0].page_content.replace('\\xa0', '')\n",
        "documents[0].page_content = documents_wo_stop\n",
        "documents"
      ],
      "metadata": {
        "colab": {
          "base_uri": "https://localhost:8080/"
        },
        "id": "qFwIjHySniaT",
        "outputId": "739a6c3d-60d6-4d34-d49e-61adbe0a4338"
      },
      "execution_count": 11,
      "outputs": [
        {
          "output_type": "execute_result",
          "data": {
            "text/plain": [
              "[Document(metadata={'producer': 'Hancom PDF 1.3.0.538', 'creator': 'Hwp 2018 10.0.0.10141', 'creationdate': '2021-06-21T09:41:20+09:00', 'author': 'Moel', 'moddate': '2021-06-21T09:41:20+09:00', 'pdfversion': '1.4', 'source': '/content/drive/MyDrive/Colab Notebooks/RAG_Langchain/COVID19_Regulation_KO.pdf', 'total_pages': 1, 'page': 0, 'page_label': '1'}, page_content='□코로나19관련 안전보건교육 지침 개정 안내(교육지침 4판)-안전·보건사고 발생위험 상승 우려로 인해 기존 유예되었던 교육을 인력기준 및 방역수칙 준수하여 정상 실시구분현 행(3판) 개 정(4판) 비고(사유 등)직무교육【이수기간 유예】ㅇ직무교육 대상자가 교육 수강을 원치 않을 경우-「감염병 재난」 상황          해제날부터 6개월 이내에 직무교육을 이수 \\n【이수기간 유예 종료】◦ 직무교육 이수기간 유예종료 - 방역지침을 준수하여 교육 실시* 2단계까지 100미만, 2.5단계 이상 50인 미만\\n 안전보건사고 발생 위험상승 우려 근로자정기교육\\n【소규모 교육】◦ 정기교육 시 전직원 집체 교육 보다는- 가급적 ‘소규모 단위’ 교육을 권장◦ 매일 또는 격일 단위로 분할 실시하되, - 가급적 1회 30분을 넘지 않도록 할 것\\n【교육 실시】◦ 방역지침을 준수하여 교육 실시* 2단계까지 100미만, 2.5단계 이상 50인 미만◦ 안전보건교육으로 볼 수 없는 직무교육이 혼재되는 부분은- 명확히 구분하여 실시 관리감독자교육【집체·현장 유예】◦ 관리감독자 정기교육(인터넷 원격교육) 시- 관리감독자 집체 또는 현장교육 유예【교육실시】◦ 방역지침을 준수하여 교육 실시* 2단계까지 100미만, 2.5단계 이상 50인 미만\\n적정여부및 위반행위 판단 ◦ 교육실시 결과 확인 방법은  ① 교육시간 및 내용, ② 근로자 참석 및 교육강사 기준,③ 허위·거짓으로 작성, ④ 작업 근로자에 대한 인터뷰를 진행한 후 종합적으로 법 위반 여부 판단◦ 교육은 ‘법률상의 의무’가 교육종류 및 주기 등에 따라 달라지므로 이를 별개의 위반행위로 구분하여 과태료 산정감염병재난과 무관하게 지속적용')]"
            ]
          },
          "metadata": {},
          "execution_count": 11
        }
      ]
    },
    {
      "cell_type": "markdown",
      "source": [
        "#### 1-2. 텍스트 split 하기"
      ],
      "metadata": {
        "id": "R7hr3HSjM_Qr"
      }
    },
    {
      "cell_type": "code",
      "source": [
        "from langchain.text_splitter import RecursiveCharacterTextSplitter\n",
        "\n",
        "text_splitter = RecursiveCharacterTextSplitter(chunk_size=100, chunk_overlap=50)\n",
        "texts = text_splitter.split_documents(documents)"
      ],
      "metadata": {
        "id": "iyBOAjjvMN1M"
      },
      "execution_count": 12,
      "outputs": []
    },
    {
      "cell_type": "code",
      "source": [
        "texts"
      ],
      "metadata": {
        "colab": {
          "base_uri": "https://localhost:8080/"
        },
        "id": "b_-lvBp8NMvR",
        "outputId": "e0e5495a-9f1c-4b53-94bf-7be41e7ce364"
      },
      "execution_count": 13,
      "outputs": [
        {
          "output_type": "execute_result",
          "data": {
            "text/plain": [
              "[Document(metadata={'producer': 'Hancom PDF 1.3.0.538', 'creator': 'Hwp 2018 10.0.0.10141', 'creationdate': '2021-06-21T09:41:20+09:00', 'author': 'Moel', 'moddate': '2021-06-21T09:41:20+09:00', 'pdfversion': '1.4', 'source': '/content/drive/MyDrive/Colab Notebooks/RAG_Langchain/COVID19_Regulation_KO.pdf', 'total_pages': 1, 'page': 0, 'page_label': '1'}, page_content='□코로나19관련 안전보건교육 지침 개정 안내(교육지침 4판)-안전·보건사고 발생위험 상승 우려로 인해 기존 유예되었던 교육을 인력기준 및 방역수칙 준수하여 정상 실시구분현'),\n",
              " Document(metadata={'producer': 'Hancom PDF 1.3.0.538', 'creator': 'Hwp 2018 10.0.0.10141', 'creationdate': '2021-06-21T09:41:20+09:00', 'author': 'Moel', 'moddate': '2021-06-21T09:41:20+09:00', 'pdfversion': '1.4', 'source': '/content/drive/MyDrive/Colab Notebooks/RAG_Langchain/COVID19_Regulation_KO.pdf', 'total_pages': 1, 'page': 0, 'page_label': '1'}, page_content='상승 우려로 인해 기존 유예되었던 교육을 인력기준 및 방역수칙 준수하여 정상 실시구분현 행(3판) 개 정(4판) 비고(사유 등)직무교육【이수기간 유예】ㅇ직무교육 대상자가 교육'),\n",
              " Document(metadata={'producer': 'Hancom PDF 1.3.0.538', 'creator': 'Hwp 2018 10.0.0.10141', 'creationdate': '2021-06-21T09:41:20+09:00', 'author': 'Moel', 'moddate': '2021-06-21T09:41:20+09:00', 'pdfversion': '1.4', 'source': '/content/drive/MyDrive/Colab Notebooks/RAG_Langchain/COVID19_Regulation_KO.pdf', 'total_pages': 1, 'page': 0, 'page_label': '1'}, page_content='행(3판) 개 정(4판) 비고(사유 등)직무교육【이수기간 유예】ㅇ직무교육 대상자가 교육 수강을 원치 않을 경우-「감염병 재난」 상황          해제날부터 6개월 이내에'),\n",
              " Document(metadata={'producer': 'Hancom PDF 1.3.0.538', 'creator': 'Hwp 2018 10.0.0.10141', 'creationdate': '2021-06-21T09:41:20+09:00', 'author': 'Moel', 'moddate': '2021-06-21T09:41:20+09:00', 'pdfversion': '1.4', 'source': '/content/drive/MyDrive/Colab Notebooks/RAG_Langchain/COVID19_Regulation_KO.pdf', 'total_pages': 1, 'page': 0, 'page_label': '1'}, page_content='수강을 원치 않을 경우-「감염병 재난」 상황          해제날부터 6개월 이내에 직무교육을 이수'),\n",
              " Document(metadata={'producer': 'Hancom PDF 1.3.0.538', 'creator': 'Hwp 2018 10.0.0.10141', 'creationdate': '2021-06-21T09:41:20+09:00', 'author': 'Moel', 'moddate': '2021-06-21T09:41:20+09:00', 'pdfversion': '1.4', 'source': '/content/drive/MyDrive/Colab Notebooks/RAG_Langchain/COVID19_Regulation_KO.pdf', 'total_pages': 1, 'page': 0, 'page_label': '1'}, page_content='【이수기간 유예 종료】◦ 직무교육 이수기간 유예종료 - 방역지침을 준수하여 교육 실시* 2단계까지 100미만, 2.5단계 이상 50인 미만'),\n",
              " Document(metadata={'producer': 'Hancom PDF 1.3.0.538', 'creator': 'Hwp 2018 10.0.0.10141', 'creationdate': '2021-06-21T09:41:20+09:00', 'author': 'Moel', 'moddate': '2021-06-21T09:41:20+09:00', 'pdfversion': '1.4', 'source': '/content/drive/MyDrive/Colab Notebooks/RAG_Langchain/COVID19_Regulation_KO.pdf', 'total_pages': 1, 'page': 0, 'page_label': '1'}, page_content='안전보건사고 발생 위험상승 우려 근로자정기교육'),\n",
              " Document(metadata={'producer': 'Hancom PDF 1.3.0.538', 'creator': 'Hwp 2018 10.0.0.10141', 'creationdate': '2021-06-21T09:41:20+09:00', 'author': 'Moel', 'moddate': '2021-06-21T09:41:20+09:00', 'pdfversion': '1.4', 'source': '/content/drive/MyDrive/Colab Notebooks/RAG_Langchain/COVID19_Regulation_KO.pdf', 'total_pages': 1, 'page': 0, 'page_label': '1'}, page_content='【소규모 교육】◦ 정기교육 시 전직원 집체 교육 보다는- 가급적 ‘소규모 단위’ 교육을 권장◦ 매일 또는 격일 단위로 분할 실시하되, - 가급적 1회 30분을 넘지 않도록 할 것'),\n",
              " Document(metadata={'producer': 'Hancom PDF 1.3.0.538', 'creator': 'Hwp 2018 10.0.0.10141', 'creationdate': '2021-06-21T09:41:20+09:00', 'author': 'Moel', 'moddate': '2021-06-21T09:41:20+09:00', 'pdfversion': '1.4', 'source': '/content/drive/MyDrive/Colab Notebooks/RAG_Langchain/COVID19_Regulation_KO.pdf', 'total_pages': 1, 'page': 0, 'page_label': '1'}, page_content='【교육 실시】◦ 방역지침을 준수하여 교육 실시* 2단계까지 100미만, 2.5단계 이상 50인 미만◦ 안전보건교육으로 볼 수 없는 직무교육이 혼재되는 부분은- 명확히 구분하여'),\n",
              " Document(metadata={'producer': 'Hancom PDF 1.3.0.538', 'creator': 'Hwp 2018 10.0.0.10141', 'creationdate': '2021-06-21T09:41:20+09:00', 'author': 'Moel', 'moddate': '2021-06-21T09:41:20+09:00', 'pdfversion': '1.4', 'source': '/content/drive/MyDrive/Colab Notebooks/RAG_Langchain/COVID19_Regulation_KO.pdf', 'total_pages': 1, 'page': 0, 'page_label': '1'}, page_content='50인 미만◦ 안전보건교육으로 볼 수 없는 직무교육이 혼재되는 부분은- 명확히 구분하여 실시 관리감독자교육【집체·현장 유예】◦ 관리감독자 정기교육(인터넷 원격교육) 시-'),\n",
              " Document(metadata={'producer': 'Hancom PDF 1.3.0.538', 'creator': 'Hwp 2018 10.0.0.10141', 'creationdate': '2021-06-21T09:41:20+09:00', 'author': 'Moel', 'moddate': '2021-06-21T09:41:20+09:00', 'pdfversion': '1.4', 'source': '/content/drive/MyDrive/Colab Notebooks/RAG_Langchain/COVID19_Regulation_KO.pdf', 'total_pages': 1, 'page': 0, 'page_label': '1'}, page_content='실시 관리감독자교육【집체·현장 유예】◦ 관리감독자 정기교육(인터넷 원격교육) 시- 관리감독자 집체 또는 현장교육 유예【교육실시】◦ 방역지침을 준수하여 교육 실시* 2단계까지'),\n",
              " Document(metadata={'producer': 'Hancom PDF 1.3.0.538', 'creator': 'Hwp 2018 10.0.0.10141', 'creationdate': '2021-06-21T09:41:20+09:00', 'author': 'Moel', 'moddate': '2021-06-21T09:41:20+09:00', 'pdfversion': '1.4', 'source': '/content/drive/MyDrive/Colab Notebooks/RAG_Langchain/COVID19_Regulation_KO.pdf', 'total_pages': 1, 'page': 0, 'page_label': '1'}, page_content='집체 또는 현장교육 유예【교육실시】◦ 방역지침을 준수하여 교육 실시* 2단계까지 100미만, 2.5단계 이상 50인 미만'),\n",
              " Document(metadata={'producer': 'Hancom PDF 1.3.0.538', 'creator': 'Hwp 2018 10.0.0.10141', 'creationdate': '2021-06-21T09:41:20+09:00', 'author': 'Moel', 'moddate': '2021-06-21T09:41:20+09:00', 'pdfversion': '1.4', 'source': '/content/drive/MyDrive/Colab Notebooks/RAG_Langchain/COVID19_Regulation_KO.pdf', 'total_pages': 1, 'page': 0, 'page_label': '1'}, page_content='적정여부및 위반행위 판단 ◦ 교육실시 결과 확인 방법은  ① 교육시간 및 내용, ② 근로자 참석 및 교육강사 기준,③ 허위·거짓으로 작성, ④ 작업 근로자에 대한 인터뷰를 진행한'),\n",
              " Document(metadata={'producer': 'Hancom PDF 1.3.0.538', 'creator': 'Hwp 2018 10.0.0.10141', 'creationdate': '2021-06-21T09:41:20+09:00', 'author': 'Moel', 'moddate': '2021-06-21T09:41:20+09:00', 'pdfversion': '1.4', 'source': '/content/drive/MyDrive/Colab Notebooks/RAG_Langchain/COVID19_Regulation_KO.pdf', 'total_pages': 1, 'page': 0, 'page_label': '1'}, page_content='참석 및 교육강사 기준,③ 허위·거짓으로 작성, ④ 작업 근로자에 대한 인터뷰를 진행한 후 종합적으로 법 위반 여부 판단◦ 교육은 ‘법률상의 의무’가 교육종류 및 주기 등에 따라'),\n",
              " Document(metadata={'producer': 'Hancom PDF 1.3.0.538', 'creator': 'Hwp 2018 10.0.0.10141', 'creationdate': '2021-06-21T09:41:20+09:00', 'author': 'Moel', 'moddate': '2021-06-21T09:41:20+09:00', 'pdfversion': '1.4', 'source': '/content/drive/MyDrive/Colab Notebooks/RAG_Langchain/COVID19_Regulation_KO.pdf', 'total_pages': 1, 'page': 0, 'page_label': '1'}, page_content='종합적으로 법 위반 여부 판단◦ 교육은 ‘법률상의 의무’가 교육종류 및 주기 등에 따라 달라지므로 이를 별개의 위반행위로 구분하여 과태료 산정감염병재난과 무관하게 지속적용')]"
            ]
          },
          "metadata": {},
          "execution_count": 13
        }
      ]
    },
    {
      "cell_type": "markdown",
      "source": [
        "#### 1-3. FAISS(Vector Store) 적재하기"
      ],
      "metadata": {
        "id": "Gx_58ROjO01n"
      }
    },
    {
      "cell_type": "code",
      "source": [
        "from langchain_community.vectorstores import FAISS\n",
        "from langchain_cohere import CohereEmbeddings\n",
        "\n",
        "retriever = FAISS.from_documents(texts,\n",
        "            CohereEmbeddings(model=\"embed-multilingual-v3.0\")).as_retriever(search_kwargs={\"k\":10})"
      ],
      "metadata": {
        "id": "H2RGUIumNNka"
      },
      "execution_count": 14,
      "outputs": []
    },
    {
      "cell_type": "markdown",
      "source": [
        "#### 1-4. Retriever 생성 및 문서 검색\n",
        "\n"
      ],
      "metadata": {
        "id": "RvRV8OSmPH1Z"
      }
    },
    {
      "cell_type": "code",
      "source": [
        "def pretty_print_docs(docs):\n",
        "  print(\n",
        "      f\"\\n{'-'*100}\\n\".join(\n",
        "          [f\"Document {i+1}:\\n\\n\" + d.page_content for i, d in enumerate(docs)]\n",
        "      )\n",
        "  )"
      ],
      "metadata": {
        "id": "ulOEjDyKPvma"
      },
      "execution_count": 16,
      "outputs": []
    },
    {
      "cell_type": "code",
      "source": [
        "query = \"2.5단계 이상에서 관리 감독자 교육 시 몇명까지 수용 가능한가요?\"\n",
        "docs = retriever.invoke(query)\n",
        "pretty_print_docs(docs)"
      ],
      "metadata": {
        "colab": {
          "base_uri": "https://localhost:8080/"
        },
        "id": "H_2xWT-QQKuD",
        "outputId": "9ebd1dfd-0bb5-4ff4-bd60-f5e6d506c4ac"
      },
      "execution_count": 17,
      "outputs": [
        {
          "output_type": "stream",
          "name": "stdout",
          "text": [
            "Document 1:\n",
            "\n",
            "50인 미만◦ 안전보건교육으로 볼 수 없는 직무교육이 혼재되는 부분은- 명확히 구분하여 실시 관리감독자교육【집체·현장 유예】◦ 관리감독자 정기교육(인터넷 원격교육) 시-\n",
            "----------------------------------------------------------------------------------------------------\n",
            "Document 2:\n",
            "\n",
            "【교육 실시】◦ 방역지침을 준수하여 교육 실시* 2단계까지 100미만, 2.5단계 이상 50인 미만◦ 안전보건교육으로 볼 수 없는 직무교육이 혼재되는 부분은- 명확히 구분하여\n",
            "----------------------------------------------------------------------------------------------------\n",
            "Document 3:\n",
            "\n",
            "실시 관리감독자교육【집체·현장 유예】◦ 관리감독자 정기교육(인터넷 원격교육) 시- 관리감독자 집체 또는 현장교육 유예【교육실시】◦ 방역지침을 준수하여 교육 실시* 2단계까지\n",
            "----------------------------------------------------------------------------------------------------\n",
            "Document 4:\n",
            "\n",
            "집체 또는 현장교육 유예【교육실시】◦ 방역지침을 준수하여 교육 실시* 2단계까지 100미만, 2.5단계 이상 50인 미만\n",
            "----------------------------------------------------------------------------------------------------\n",
            "Document 5:\n",
            "\n",
            "【이수기간 유예 종료】◦ 직무교육 이수기간 유예종료 - 방역지침을 준수하여 교육 실시* 2단계까지 100미만, 2.5단계 이상 50인 미만\n",
            "----------------------------------------------------------------------------------------------------\n",
            "Document 6:\n",
            "\n",
            "상승 우려로 인해 기존 유예되었던 교육을 인력기준 및 방역수칙 준수하여 정상 실시구분현 행(3판) 개 정(4판) 비고(사유 등)직무교육【이수기간 유예】ㅇ직무교육 대상자가 교육\n",
            "----------------------------------------------------------------------------------------------------\n",
            "Document 7:\n",
            "\n",
            "적정여부및 위반행위 판단 ◦ 교육실시 결과 확인 방법은  ① 교육시간 및 내용, ② 근로자 참석 및 교육강사 기준,③ 허위·거짓으로 작성, ④ 작업 근로자에 대한 인터뷰를 진행한\n",
            "----------------------------------------------------------------------------------------------------\n",
            "Document 8:\n",
            "\n",
            "행(3판) 개 정(4판) 비고(사유 등)직무교육【이수기간 유예】ㅇ직무교육 대상자가 교육 수강을 원치 않을 경우-「감염병 재난」 상황          해제날부터 6개월 이내에\n",
            "----------------------------------------------------------------------------------------------------\n",
            "Document 9:\n",
            "\n",
            "【소규모 교육】◦ 정기교육 시 전직원 집체 교육 보다는- 가급적 ‘소규모 단위’ 교육을 권장◦ 매일 또는 격일 단위로 분할 실시하되, - 가급적 1회 30분을 넘지 않도록 할 것\n",
            "----------------------------------------------------------------------------------------------------\n",
            "Document 10:\n",
            "\n",
            "참석 및 교육강사 기준,③ 허위·거짓으로 작성, ④ 작업 근로자에 대한 인터뷰를 진행한 후 종합적으로 법 위반 여부 판단◦ 교육은 ‘법률상의 의무’가 교육종류 및 주기 등에 따라\n"
          ]
        }
      ]
    },
    {
      "cell_type": "markdown",
      "source": [
        "### Cohere Rerank model - Rerandker\n",
        "\n",
        "#### ContextualCompressionRetriever 활용하여 Reranker 추가"
      ],
      "metadata": {
        "id": "x0JzJuLOQzE9"
      }
    },
    {
      "cell_type": "code",
      "source": [
        "from langchain.retrievers.contextual_compression import ContextualCompressionRetriever\n",
        "from langchain_cohere import CohereRerank\n",
        "\n",
        "compressor = CohereRerank(model=\"rerank-multilingual-v3.0\", top_n=5)\n",
        "compression_retriever = ContextualCompressionRetriever(base_compressor=compressor,\n",
        "                                                       base_retriever=retriever\n",
        "                                                       )\n",
        "compressed_docs = compression_retriever.invoke(\n",
        "    \"2.5단계 이상에서 관리 감독자 교육 시 몇명까지 수용 가능한가요?\"\n",
        ")\n",
        "pretty_print_docs(compressed_docs)\n"
      ],
      "metadata": {
        "colab": {
          "base_uri": "https://localhost:8080/"
        },
        "id": "qAEL__PdQUxC",
        "outputId": "794ae8cc-30f5-496b-fa32-b70a17d35a75"
      },
      "execution_count": 18,
      "outputs": [
        {
          "output_type": "stream",
          "name": "stdout",
          "text": [
            "Document 1:\n",
            "\n",
            "【이수기간 유예 종료】◦ 직무교육 이수기간 유예종료 - 방역지침을 준수하여 교육 실시* 2단계까지 100미만, 2.5단계 이상 50인 미만\n",
            "----------------------------------------------------------------------------------------------------\n",
            "Document 2:\n",
            "\n",
            "【교육 실시】◦ 방역지침을 준수하여 교육 실시* 2단계까지 100미만, 2.5단계 이상 50인 미만◦ 안전보건교육으로 볼 수 없는 직무교육이 혼재되는 부분은- 명확히 구분하여\n",
            "----------------------------------------------------------------------------------------------------\n",
            "Document 3:\n",
            "\n",
            "집체 또는 현장교육 유예【교육실시】◦ 방역지침을 준수하여 교육 실시* 2단계까지 100미만, 2.5단계 이상 50인 미만\n",
            "----------------------------------------------------------------------------------------------------\n",
            "Document 4:\n",
            "\n",
            "50인 미만◦ 안전보건교육으로 볼 수 없는 직무교육이 혼재되는 부분은- 명확히 구분하여 실시 관리감독자교육【집체·현장 유예】◦ 관리감독자 정기교육(인터넷 원격교육) 시-\n",
            "----------------------------------------------------------------------------------------------------\n",
            "Document 5:\n",
            "\n",
            "실시 관리감독자교육【집체·현장 유예】◦ 관리감독자 정기교육(인터넷 원격교육) 시- 관리감독자 집체 또는 현장교육 유예【교육실시】◦ 방역지침을 준수하여 교육 실시* 2단계까지\n"
          ]
        }
      ]
    },
    {
      "cell_type": "markdown",
      "source": [
        "### RAG\n",
        "\n",
        ">[Langchain Docs : create_stuff_documents_chain](https://python.langchain.com/api_reference/langchain/chains/langchain.chains.combine_documents.stuff.create_stuff_documents_chain.html)\n",
        "\n",
        ">[Langchain Docs : create_retrieval_chain](https://python.langchain.com/api_reference/langchain/chains/langchain.chains.retrieval.create_retrieval_chain.html)"
      ],
      "metadata": {
        "id": "QkrdO83qSOxi"
      }
    },
    {
      "cell_type": "code",
      "source": [
        "from langchain.chains import create_retrieval_chain\n",
        "from langchain.chains.combine_documents import create_stuff_documents_chain\n",
        "from langchain_core.prompts import ChatPromptTemplate\n",
        "from langchain_cohere import ChatCohere\n",
        "\n",
        "llm = ChatCohere()\n",
        "\n",
        "system_prompt = (\n",
        "    \"Use the given context to answer the question in Korean. \"\n",
        "    \"If you don't know the answer, say you don't know. \"\n",
        "    \"Context: {context}\"\n",
        ")\n",
        "\n",
        "prompt = ChatPromptTemplate.from_messages(\n",
        "    [\n",
        "        (\"system\", system_prompt),\n",
        "        (\"human\", \"{input}\"),\n",
        "    ]\n",
        ")\n",
        "\n",
        "combine_docs_chain = create_stuff_documents_chain(llm, prompt)\n",
        "chain = create_retrieval_chain(compression_retriever, combine_docs_chain)"
      ],
      "metadata": {
        "id": "vrXRhU9iSM8n"
      },
      "execution_count": 19,
      "outputs": []
    },
    {
      "cell_type": "code",
      "source": [
        "query = \"2.5단계 이상에서 관리 감독자 교육 시 몇명까지 수용 가능한가요?\"\n",
        "response = chain.invoke({\"input\": query})"
      ],
      "metadata": {
        "id": "V8ojqcTwSM6R"
      },
      "execution_count": 20,
      "outputs": []
    },
    {
      "cell_type": "code",
      "source": [
        "response"
      ],
      "metadata": {
        "colab": {
          "base_uri": "https://localhost:8080/"
        },
        "id": "rw0PgfQnYvy_",
        "outputId": "511a8bf3-a013-472b-8ad3-cacba1559d41"
      },
      "execution_count": 21,
      "outputs": [
        {
          "output_type": "execute_result",
          "data": {
            "text/plain": [
              "{'input': '2.5단계 이상에서 관리 감독자 교육 시 몇명까지 수용 가능한가요?',\n",
              " 'context': [Document(metadata={'producer': 'Hancom PDF 1.3.0.538', 'creator': 'Hwp 2018 10.0.0.10141', 'creationdate': '2021-06-21T09:41:20+09:00', 'author': 'Moel', 'moddate': '2021-06-21T09:41:20+09:00', 'pdfversion': '1.4', 'source': '/content/drive/MyDrive/Colab Notebooks/RAG_Langchain/COVID19_Regulation_KO.pdf', 'total_pages': 1, 'page': 0, 'page_label': '1', 'relevance_score': 0.6978149}, page_content='【이수기간 유예 종료】◦ 직무교육 이수기간 유예종료 - 방역지침을 준수하여 교육 실시* 2단계까지 100미만, 2.5단계 이상 50인 미만'),\n",
              "  Document(metadata={'producer': 'Hancom PDF 1.3.0.538', 'creator': 'Hwp 2018 10.0.0.10141', 'creationdate': '2021-06-21T09:41:20+09:00', 'author': 'Moel', 'moddate': '2021-06-21T09:41:20+09:00', 'pdfversion': '1.4', 'source': '/content/drive/MyDrive/Colab Notebooks/RAG_Langchain/COVID19_Regulation_KO.pdf', 'total_pages': 1, 'page': 0, 'page_label': '1', 'relevance_score': 0.6974029}, page_content='【교육 실시】◦ 방역지침을 준수하여 교육 실시* 2단계까지 100미만, 2.5단계 이상 50인 미만◦ 안전보건교육으로 볼 수 없는 직무교육이 혼재되는 부분은- 명확히 구분하여'),\n",
              "  Document(metadata={'producer': 'Hancom PDF 1.3.0.538', 'creator': 'Hwp 2018 10.0.0.10141', 'creationdate': '2021-06-21T09:41:20+09:00', 'author': 'Moel', 'moddate': '2021-06-21T09:41:20+09:00', 'pdfversion': '1.4', 'source': '/content/drive/MyDrive/Colab Notebooks/RAG_Langchain/COVID19_Regulation_KO.pdf', 'total_pages': 1, 'page': 0, 'page_label': '1', 'relevance_score': 0.5782696}, page_content='집체 또는 현장교육 유예【교육실시】◦ 방역지침을 준수하여 교육 실시* 2단계까지 100미만, 2.5단계 이상 50인 미만'),\n",
              "  Document(metadata={'producer': 'Hancom PDF 1.3.0.538', 'creator': 'Hwp 2018 10.0.0.10141', 'creationdate': '2021-06-21T09:41:20+09:00', 'author': 'Moel', 'moddate': '2021-06-21T09:41:20+09:00', 'pdfversion': '1.4', 'source': '/content/drive/MyDrive/Colab Notebooks/RAG_Langchain/COVID19_Regulation_KO.pdf', 'total_pages': 1, 'page': 0, 'page_label': '1', 'relevance_score': 0.46204826}, page_content='50인 미만◦ 안전보건교육으로 볼 수 없는 직무교육이 혼재되는 부분은- 명확히 구분하여 실시 관리감독자교육【집체·현장 유예】◦ 관리감독자 정기교육(인터넷 원격교육) 시-'),\n",
              "  Document(metadata={'producer': 'Hancom PDF 1.3.0.538', 'creator': 'Hwp 2018 10.0.0.10141', 'creationdate': '2021-06-21T09:41:20+09:00', 'author': 'Moel', 'moddate': '2021-06-21T09:41:20+09:00', 'pdfversion': '1.4', 'source': '/content/drive/MyDrive/Colab Notebooks/RAG_Langchain/COVID19_Regulation_KO.pdf', 'total_pages': 1, 'page': 0, 'page_label': '1', 'relevance_score': 0.0045032725}, page_content='실시 관리감독자교육【집체·현장 유예】◦ 관리감독자 정기교육(인터넷 원격교육) 시- 관리감독자 집체 또는 현장교육 유예【교육실시】◦ 방역지침을 준수하여 교육 실시* 2단계까지')],\n",
              " 'answer': '2.5단계 이상에서 관리 감독자 교육 시 **50인 미만**까지 수용 가능합니다. 이는 제공된 맥락에서 다음과 같은 내용을 통해 확인할 수 있습니다:\\n\\n- **방역지침을 준수하여 교육 실시**: 2.5단계 이상에서는 50인 미만으로 교육이 실시됩니다.\\n- **관리감독자교육**: 집체 또는 현장교육이 유예되며, 인터넷 원격교육으로 진행됩니다.\\n\\n따라서, 2.5단계 이상에서 관리 감독자 교육은 50인 미만으로 수용 가능합니다.'}"
            ]
          },
          "metadata": {},
          "execution_count": 21
        }
      ]
    },
    {
      "cell_type": "code",
      "source": [
        "response['input']"
      ],
      "metadata": {
        "colab": {
          "base_uri": "https://localhost:8080/",
          "height": 36
        },
        "id": "Ij1A7yEDYkqD",
        "outputId": "e6f60868-600b-4de9-c05f-f06e338e7e46"
      },
      "execution_count": 22,
      "outputs": [
        {
          "output_type": "execute_result",
          "data": {
            "text/plain": [
              "'2.5단계 이상에서 관리 감독자 교육 시 몇명까지 수용 가능한가요?'"
            ],
            "application/vnd.google.colaboratory.intrinsic+json": {
              "type": "string"
            }
          },
          "metadata": {},
          "execution_count": 22
        }
      ]
    },
    {
      "cell_type": "code",
      "source": [
        "response['context']"
      ],
      "metadata": {
        "colab": {
          "base_uri": "https://localhost:8080/"
        },
        "id": "41YW8rchYnMj",
        "outputId": "a7788343-a6b8-4ee1-fdbc-f411e7e22b12"
      },
      "execution_count": 23,
      "outputs": [
        {
          "output_type": "execute_result",
          "data": {
            "text/plain": [
              "[Document(metadata={'producer': 'Hancom PDF 1.3.0.538', 'creator': 'Hwp 2018 10.0.0.10141', 'creationdate': '2021-06-21T09:41:20+09:00', 'author': 'Moel', 'moddate': '2021-06-21T09:41:20+09:00', 'pdfversion': '1.4', 'source': '/content/drive/MyDrive/Colab Notebooks/RAG_Langchain/COVID19_Regulation_KO.pdf', 'total_pages': 1, 'page': 0, 'page_label': '1', 'relevance_score': 0.6978149}, page_content='【이수기간 유예 종료】◦ 직무교육 이수기간 유예종료 - 방역지침을 준수하여 교육 실시* 2단계까지 100미만, 2.5단계 이상 50인 미만'),\n",
              " Document(metadata={'producer': 'Hancom PDF 1.3.0.538', 'creator': 'Hwp 2018 10.0.0.10141', 'creationdate': '2021-06-21T09:41:20+09:00', 'author': 'Moel', 'moddate': '2021-06-21T09:41:20+09:00', 'pdfversion': '1.4', 'source': '/content/drive/MyDrive/Colab Notebooks/RAG_Langchain/COVID19_Regulation_KO.pdf', 'total_pages': 1, 'page': 0, 'page_label': '1', 'relevance_score': 0.6974029}, page_content='【교육 실시】◦ 방역지침을 준수하여 교육 실시* 2단계까지 100미만, 2.5단계 이상 50인 미만◦ 안전보건교육으로 볼 수 없는 직무교육이 혼재되는 부분은- 명확히 구분하여'),\n",
              " Document(metadata={'producer': 'Hancom PDF 1.3.0.538', 'creator': 'Hwp 2018 10.0.0.10141', 'creationdate': '2021-06-21T09:41:20+09:00', 'author': 'Moel', 'moddate': '2021-06-21T09:41:20+09:00', 'pdfversion': '1.4', 'source': '/content/drive/MyDrive/Colab Notebooks/RAG_Langchain/COVID19_Regulation_KO.pdf', 'total_pages': 1, 'page': 0, 'page_label': '1', 'relevance_score': 0.5782696}, page_content='집체 또는 현장교육 유예【교육실시】◦ 방역지침을 준수하여 교육 실시* 2단계까지 100미만, 2.5단계 이상 50인 미만'),\n",
              " Document(metadata={'producer': 'Hancom PDF 1.3.0.538', 'creator': 'Hwp 2018 10.0.0.10141', 'creationdate': '2021-06-21T09:41:20+09:00', 'author': 'Moel', 'moddate': '2021-06-21T09:41:20+09:00', 'pdfversion': '1.4', 'source': '/content/drive/MyDrive/Colab Notebooks/RAG_Langchain/COVID19_Regulation_KO.pdf', 'total_pages': 1, 'page': 0, 'page_label': '1', 'relevance_score': 0.46204826}, page_content='50인 미만◦ 안전보건교육으로 볼 수 없는 직무교육이 혼재되는 부분은- 명확히 구분하여 실시 관리감독자교육【집체·현장 유예】◦ 관리감독자 정기교육(인터넷 원격교육) 시-'),\n",
              " Document(metadata={'producer': 'Hancom PDF 1.3.0.538', 'creator': 'Hwp 2018 10.0.0.10141', 'creationdate': '2021-06-21T09:41:20+09:00', 'author': 'Moel', 'moddate': '2021-06-21T09:41:20+09:00', 'pdfversion': '1.4', 'source': '/content/drive/MyDrive/Colab Notebooks/RAG_Langchain/COVID19_Regulation_KO.pdf', 'total_pages': 1, 'page': 0, 'page_label': '1', 'relevance_score': 0.0045032725}, page_content='실시 관리감독자교육【집체·현장 유예】◦ 관리감독자 정기교육(인터넷 원격교육) 시- 관리감독자 집체 또는 현장교육 유예【교육실시】◦ 방역지침을 준수하여 교육 실시* 2단계까지')]"
            ]
          },
          "metadata": {},
          "execution_count": 23
        }
      ]
    },
    {
      "cell_type": "code",
      "source": [
        "print(response['answer'])"
      ],
      "metadata": {
        "colab": {
          "base_uri": "https://localhost:8080/"
        },
        "id": "yrn95hFwYspx",
        "outputId": "8eb5f02e-b577-4585-839c-140eb96638c8"
      },
      "execution_count": 24,
      "outputs": [
        {
          "output_type": "stream",
          "name": "stdout",
          "text": [
            "2.5단계 이상에서 관리 감독자 교육 시 **50인 미만**까지 수용 가능합니다. 이는 제공된 맥락에서 다음과 같은 내용을 통해 확인할 수 있습니다:\n",
            "\n",
            "- **방역지침을 준수하여 교육 실시**: 2.5단계 이상에서는 50인 미만으로 교육이 실시됩니다.\n",
            "- **관리감독자교육**: 집체 또는 현장교육이 유예되며, 인터넷 원격교육으로 진행됩니다.\n",
            "\n",
            "따라서, 2.5단계 이상에서 관리 감독자 교육은 50인 미만으로 수용 가능합니다.\n"
          ]
        }
      ]
    },
    {
      "cell_type": "code",
      "source": [],
      "metadata": {
        "id": "pkSsBWsrY8ra"
      },
      "execution_count": null,
      "outputs": []
    }
  ]
}