{
  "cells": [
    {
      "cell_type": "markdown",
      "metadata": {
        "id": "view-in-github",
        "colab_type": "text"
      },
      "source": [
        "<a href=\"https://colab.research.google.com/github/LightGreenWorld/INCEptTION_Annotation/blob/main/INCEpTION_Annotation.ipynb\" target=\"_parent\"><img src=\"https://colab.research.google.com/assets/colab-badge.svg\" alt=\"Open In Colab\"/></a>"
      ]
    },
    {
      "cell_type": "code",
      "source": [
        "from google.colab import drive\n",
        "drive.mount('/content/drive')"
      ],
      "metadata": {
        "id": "IYElI4iaVBuQ",
        "colab": {
          "base_uri": "https://localhost:8080/"
        },
        "outputId": "3921a957-02ef-4f1e-e212-d97b28237fd3"
      },
      "id": "IYElI4iaVBuQ",
      "execution_count": 2,
      "outputs": [
        {
          "output_type": "stream",
          "name": "stdout",
          "text": [
            "Mounted at /content/drive\n"
          ]
        }
      ]
    },
    {
      "cell_type": "markdown",
      "id": "aa1c7126",
      "metadata": {
        "id": "aa1c7126"
      },
      "source": [
        "# INCEpTION-Formated Annotation of UPOS & NER"
      ]
    },
    {
      "cell_type": "markdown",
      "source": [
        "## 1. Single txt File"
      ],
      "metadata": {
        "id": "8dkunc6Zjf1y"
      },
      "id": "8dkunc6Zjf1y"
    },
    {
      "cell_type": "code",
      "execution_count": 4,
      "id": "9a02e2a6",
      "metadata": {
        "id": "9a02e2a6"
      },
      "outputs": [],
      "source": [
        "import spacy"
      ]
    },
    {
      "cell_type": "code",
      "execution_count": 5,
      "id": "51f5cfee",
      "metadata": {
        "id": "51f5cfee",
        "outputId": "c908f9b8-eee9-41d4-8f6e-e609f9b13b84",
        "colab": {
          "base_uri": "https://localhost:8080/"
        }
      },
      "outputs": [
        {
          "output_type": "stream",
          "name": "stdout",
          "text": [
            "Conversion completed. Output saved to /content/drive/MyDrive/Colab Notebooks/Annotation/Result/2020-12-17_57.conllu\n"
          ]
        }
      ],
      "source": [
        "nlp = spacy.load(\"en_core_web_sm\")\n",
        "\n",
        "def txt_to_conllu(input_path, output_path):\n",
        "    with open(input_path, 'r', encoding='utf-8') as txt_file:\n",
        "        txt = txt_file.read()\n",
        "\n",
        "    doc = nlp(txt)\n",
        "\n",
        "    with open(output_path, 'w', encoding='utf-8') as conllu_file:\n",
        "\n",
        "        for sent_id, sent in enumerate(doc.sents, 1):\n",
        "            conllu_file.write(f\"# sent_id = {sent_id}\\n\")\n",
        "            conllu_file.write(f\"# text = {sent.text}\\n\")\n",
        "\n",
        "            for token_id, token in enumerate(sent):\n",
        "                entity_label = token.ent_type_ if token.ent_type_ else '-'\n",
        "                pos_label = \"\" if token.pos_=='SPACE' else token.pos_\n",
        "                conllu_file.write(f\"{token.text}\\t{pos_label}\\t_\\t_\\t_\\t_\\t_\\t{entity_label}\\t_\\t_\\n\")\n",
        "            conllu_file.write(\"\\n\")\n",
        "\n",
        "input_path = \"/content/drive/MyDrive/Colab Notebooks/Annotation/2020-12-17_57.txt\"\n",
        "output_path = \"/content/drive/MyDrive/Colab Notebooks/Annotation/Result/2020-12-17_57.conllu\"\n",
        "txt_to_conllu(input_path, output_path)\n",
        "\n",
        "print(f\"Conversion completed. Output saved to {output_path}\")\n"
      ]
    },
    {
      "cell_type": "code",
      "execution_count": null,
      "id": "2212d6b2",
      "metadata": {
        "id": "2212d6b2"
      },
      "outputs": [],
      "source": []
    }
  ],
  "metadata": {
    "kernelspec": {
      "display_name": "Python 3 (ipykernel)",
      "language": "python",
      "name": "python3"
    },
    "language_info": {
      "codemirror_mode": {
        "name": "ipython",
        "version": 3
      },
      "file_extension": ".py",
      "mimetype": "text/x-python",
      "name": "python",
      "nbconvert_exporter": "python",
      "pygments_lexer": "ipython3",
      "version": "3.11.7"
    },
    "colab": {
      "provenance": [],
      "include_colab_link": true
    }
  },
  "nbformat": 4,
  "nbformat_minor": 5
}